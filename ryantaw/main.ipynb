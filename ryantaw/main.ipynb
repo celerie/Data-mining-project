{
 "cells": [
  {
   "cell_type": "code",
   "execution_count": 8,
   "metadata": {},
   "outputs": [
    {
     "ename": "TypeError",
     "evalue": "unhashable type: 'set'",
     "output_type": "error",
     "traceback": [
      "\u001b[0;31m---------------------------------------------------------------------------\u001b[0m",
      "\u001b[0;31mTypeError\u001b[0m                                 Traceback (most recent call last)",
      "Cell \u001b[0;32mIn[8], line 69\u001b[0m\n\u001b[1;32m     66\u001b[0m min_confidence \u001b[39m=\u001b[39m \u001b[39m0.5\u001b[39m\n\u001b[1;32m     68\u001b[0m frequent_itemsets \u001b[39m=\u001b[39m find_frequent_itemsets(transactions, min_support)\n\u001b[0;32m---> 69\u001b[0m association_rules \u001b[39m=\u001b[39m generate_association_rules(frequent_itemsets, min_confidence)\n\u001b[1;32m     71\u001b[0m \u001b[39m# Print frequent itemsets and association rules\u001b[39;00m\n\u001b[1;32m     72\u001b[0m \u001b[39mprint\u001b[39m(\u001b[39m\"\u001b[39m\u001b[39mFrequent Itemsets:\u001b[39m\u001b[39m\"\u001b[39m)\n",
      "Cell \u001b[0;32mIn[8], line 50\u001b[0m, in \u001b[0;36mgenerate_association_rules\u001b[0;34m(itemsets, min_confidence)\u001b[0m\n\u001b[1;32m     48\u001b[0m \u001b[39mfor\u001b[39;00m item \u001b[39min\u001b[39;00m itemset:\n\u001b[1;32m     49\u001b[0m     antecedent \u001b[39m=\u001b[39m {itemset} \u001b[39m-\u001b[39m {item}\n\u001b[0;32m---> 50\u001b[0m     confidence \u001b[39m=\u001b[39m itemsets[\u001b[39mlen\u001b[39m(antecedent)][antecedent] \u001b[39m/\u001b[39m itemsets[size][itemset]\n\u001b[1;32m     51\u001b[0m     \u001b[39mif\u001b[39;00m confidence \u001b[39m>\u001b[39m\u001b[39m=\u001b[39m min_confidence:\n\u001b[1;32m     52\u001b[0m         rules\u001b[39m.\u001b[39mappend((antecedent, item, confidence))\n",
      "\u001b[0;31mTypeError\u001b[0m: unhashable type: 'set'"
     ]
    }
   ],
   "source": [
    "from itertools import combinations\n",
    "\n",
    "# Function to find frequent itemsets\n",
    "def find_frequent_itemsets(transactions, min_support):\n",
    "    itemsets = {}\n",
    "    transaction_list = list(transactions)\n",
    "    num_transactions = len(transaction_list)\n",
    "    \n",
    "    # Generate candidate 1-itemsets\n",
    "    c1 = {}\n",
    "    for transaction in transaction_list:\n",
    "        for item in transaction:\n",
    "            if item in c1:\n",
    "                c1[item] += 1\n",
    "            else:\n",
    "                c1[item] = 1\n",
    "    \n",
    "    # Prune infrequent 1-itemsets\n",
    "    l1 = {item: support for item, support in c1.items() if support >= min_support}\n",
    "    itemsets[1] = l1\n",
    "    \n",
    "    k = 2\n",
    "    while len(itemsets[k - 1]) > 0:\n",
    "        # Generate candidate k-itemsets\n",
    "        ck = {}\n",
    "        for itemset in combinations(set(item for item in itemsets[k - 1]), k):\n",
    "            support = 0\n",
    "            for transaction in transaction_list:\n",
    "                if all(item in transaction for item in itemset):\n",
    "                    support += 1\n",
    "            ck[itemset] = support\n",
    "        \n",
    "        # Prune infrequent k-itemsets\n",
    "        lk = {itemset: support for itemset, support in ck.items() if support >= min_support}\n",
    "        itemsets[k] = lk\n",
    "        k += 1\n",
    "    \n",
    "    return itemsets\n",
    "\n",
    "# Function to generate association rules\n",
    "def generate_association_rules(itemsets, min_confidence):\n",
    "    rules = []\n",
    "    for size, itemset_list in itemsets.items():\n",
    "        if size == 1:\n",
    "            continue  # Skip 1-itemsets, as they can't be used to generate rules\n",
    "        \n",
    "        for itemset in itemset_list:\n",
    "            for item in itemset:\n",
    "                antecedent = {itemset} - {item} \n",
    "                confidence = itemsets[len(antecedent)][antecedent] / itemsets[size][itemset]\n",
    "                if confidence >= min_confidence:\n",
    "                    rules.append((antecedent, item, confidence))\n",
    "    \n",
    "    return rules\n",
    "\n",
    "# Example usage\n",
    "transactions = [\n",
    "    {\"milk\", \"bread\", \"nuts\", \"apple\"},\n",
    "    {\"milk\", \"bread\", \"nuts\"},\n",
    "    {\"milk\", \"bread\", \"apple\"},\n",
    "    {\"milk\", \"bread\"},\n",
    "    {\"milk\", \"bread\", \"nuts\"},\n",
    "]\n",
    "\n",
    "min_support = 2\n",
    "min_confidence = 0.5\n",
    "\n",
    "frequent_itemsets = find_frequent_itemsets(transactions, min_support)\n",
    "association_rules = generate_association_rules(frequent_itemsets, min_confidence)\n",
    "\n",
    "# Print frequent itemsets and association rules\n",
    "print(\"Frequent Itemsets:\")\n",
    "for size, itemset_list in frequent_itemsets.items():\n",
    "    for itemset in itemset_list:\n",
    "        print(f\"{itemset}: Support = {frequent_itemsets[size][itemset]}\")\n",
    "\n",
    "print(\"\\nAssociation Rules:\")\n",
    "for rule in association_rules:\n",
    "    antecedent, consequent, confidence = rule\n",
    "    print(f\"{antecedent} -> {consequent}: Confidence = {confidence}\")\n"
   ]
  },
  {
   "cell_type": "code",
   "execution_count": null,
   "metadata": {},
   "outputs": [
    {
     "ename": "",
     "evalue": "",
     "output_type": "error",
     "traceback": [
      "\u001b[1;31mRunning cells with 'Python 3.11.5 ('daam')' requires ipykernel package.\n",
      "\u001b[1;31mRun the following command to install 'ipykernel' into the Python environment. \n",
      "\u001b[1;31mCommand: 'conda install -n daam ipykernel --update-deps --force-reinstall'"
     ]
    }
   ],
   "source": []
  },
  {
   "cell_type": "code",
   "execution_count": null,
   "metadata": {},
   "outputs": [],
   "source": []
  }
 ],
 "metadata": {
  "kernelspec": {
   "display_name": "Python 3.11.5 ('daam')",
   "language": "python",
   "name": "python3"
  },
  "language_info": {
   "codemirror_mode": {
    "name": "ipython",
    "version": 3
   },
   "file_extension": ".py",
   "mimetype": "text/x-python",
   "name": "python",
   "nbconvert_exporter": "python",
   "pygments_lexer": "ipython3",
   "version": "3.11.5"
  },
  "vscode": {
   "interpreter": {
    "hash": "a8dbf8d7ef1c0b38b67812619b704383877847c96f59454b63d829827efea6ea"
   }
  }
 },
 "nbformat": 4,
 "nbformat_minor": 2
}
