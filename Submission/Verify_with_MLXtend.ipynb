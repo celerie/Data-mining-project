{
  "cells": [
    {
      "cell_type": "code",
      "execution_count": 13,
      "metadata": {
        "colab": {
          "base_uri": "https://localhost:8080/",
          "height": 478
        },
        "id": "oVo2O4dM7jBK",
        "outputId": "2367c603-6670-499d-9b61-e91237c8abe3"
      },
      "outputs": [
        {
          "ename": "FileNotFoundError",
          "evalue": "[Errno 2] No such file or directory: 'data/processedgroceries.csv'",
          "output_type": "error",
          "traceback": [
            "\u001b[0;31m---------------------------------------------------------------------------\u001b[0m",
            "\u001b[0;31mFileNotFoundError\u001b[0m                         Traceback (most recent call last)",
            "Cell \u001b[0;32mIn[13], line 4\u001b[0m\n\u001b[1;32m      2\u001b[0m drive_root \u001b[39m=\u001b[39m \u001b[39m\"\u001b[39m\u001b[39mdata/\u001b[39m\u001b[39m\"\u001b[39m\n\u001b[1;32m      3\u001b[0m filename \u001b[39m=\u001b[39m \u001b[39m\"\u001b[39m\u001b[39mgroceries.csv\u001b[39m\u001b[39m\"\u001b[39m\n\u001b[0;32m----> 4\u001b[0m data \u001b[39m=\u001b[39m pd\u001b[39m.\u001b[39mread_csv(drive_root\u001b[39m+\u001b[39m\u001b[39m\"\u001b[39m\u001b[39mprocessed\u001b[39m\u001b[39m\"\u001b[39m\u001b[39m+\u001b[39mfilename)\n\u001b[1;32m      5\u001b[0m data\n",
            "File \u001b[0;32m~/miniconda3/envs/daam/lib/python3.11/site-packages/pandas/io/parsers/readers.py:948\u001b[0m, in \u001b[0;36mread_csv\u001b[0;34m(filepath_or_buffer, sep, delimiter, header, names, index_col, usecols, dtype, engine, converters, true_values, false_values, skipinitialspace, skiprows, skipfooter, nrows, na_values, keep_default_na, na_filter, verbose, skip_blank_lines, parse_dates, infer_datetime_format, keep_date_col, date_parser, date_format, dayfirst, cache_dates, iterator, chunksize, compression, thousands, decimal, lineterminator, quotechar, quoting, doublequote, escapechar, comment, encoding, encoding_errors, dialect, on_bad_lines, delim_whitespace, low_memory, memory_map, float_precision, storage_options, dtype_backend)\u001b[0m\n\u001b[1;32m    935\u001b[0m kwds_defaults \u001b[39m=\u001b[39m _refine_defaults_read(\n\u001b[1;32m    936\u001b[0m     dialect,\n\u001b[1;32m    937\u001b[0m     delimiter,\n\u001b[0;32m   (...)\u001b[0m\n\u001b[1;32m    944\u001b[0m     dtype_backend\u001b[39m=\u001b[39mdtype_backend,\n\u001b[1;32m    945\u001b[0m )\n\u001b[1;32m    946\u001b[0m kwds\u001b[39m.\u001b[39mupdate(kwds_defaults)\n\u001b[0;32m--> 948\u001b[0m \u001b[39mreturn\u001b[39;00m _read(filepath_or_buffer, kwds)\n",
            "File \u001b[0;32m~/miniconda3/envs/daam/lib/python3.11/site-packages/pandas/io/parsers/readers.py:611\u001b[0m, in \u001b[0;36m_read\u001b[0;34m(filepath_or_buffer, kwds)\u001b[0m\n\u001b[1;32m    608\u001b[0m _validate_names(kwds\u001b[39m.\u001b[39mget(\u001b[39m\"\u001b[39m\u001b[39mnames\u001b[39m\u001b[39m\"\u001b[39m, \u001b[39mNone\u001b[39;00m))\n\u001b[1;32m    610\u001b[0m \u001b[39m# Create the parser.\u001b[39;00m\n\u001b[0;32m--> 611\u001b[0m parser \u001b[39m=\u001b[39m TextFileReader(filepath_or_buffer, \u001b[39m*\u001b[39m\u001b[39m*\u001b[39mkwds)\n\u001b[1;32m    613\u001b[0m \u001b[39mif\u001b[39;00m chunksize \u001b[39mor\u001b[39;00m iterator:\n\u001b[1;32m    614\u001b[0m     \u001b[39mreturn\u001b[39;00m parser\n",
            "File \u001b[0;32m~/miniconda3/envs/daam/lib/python3.11/site-packages/pandas/io/parsers/readers.py:1448\u001b[0m, in \u001b[0;36mTextFileReader.__init__\u001b[0;34m(self, f, engine, **kwds)\u001b[0m\n\u001b[1;32m   1445\u001b[0m     \u001b[39mself\u001b[39m\u001b[39m.\u001b[39moptions[\u001b[39m\"\u001b[39m\u001b[39mhas_index_names\u001b[39m\u001b[39m\"\u001b[39m] \u001b[39m=\u001b[39m kwds[\u001b[39m\"\u001b[39m\u001b[39mhas_index_names\u001b[39m\u001b[39m\"\u001b[39m]\n\u001b[1;32m   1447\u001b[0m \u001b[39mself\u001b[39m\u001b[39m.\u001b[39mhandles: IOHandles \u001b[39m|\u001b[39m \u001b[39mNone\u001b[39;00m \u001b[39m=\u001b[39m \u001b[39mNone\u001b[39;00m\n\u001b[0;32m-> 1448\u001b[0m \u001b[39mself\u001b[39m\u001b[39m.\u001b[39m_engine \u001b[39m=\u001b[39m \u001b[39mself\u001b[39m\u001b[39m.\u001b[39m_make_engine(f, \u001b[39mself\u001b[39m\u001b[39m.\u001b[39mengine)\n",
            "File \u001b[0;32m~/miniconda3/envs/daam/lib/python3.11/site-packages/pandas/io/parsers/readers.py:1705\u001b[0m, in \u001b[0;36mTextFileReader._make_engine\u001b[0;34m(self, f, engine)\u001b[0m\n\u001b[1;32m   1703\u001b[0m     \u001b[39mif\u001b[39;00m \u001b[39m\"\u001b[39m\u001b[39mb\u001b[39m\u001b[39m\"\u001b[39m \u001b[39mnot\u001b[39;00m \u001b[39min\u001b[39;00m mode:\n\u001b[1;32m   1704\u001b[0m         mode \u001b[39m+\u001b[39m\u001b[39m=\u001b[39m \u001b[39m\"\u001b[39m\u001b[39mb\u001b[39m\u001b[39m\"\u001b[39m\n\u001b[0;32m-> 1705\u001b[0m \u001b[39mself\u001b[39m\u001b[39m.\u001b[39mhandles \u001b[39m=\u001b[39m get_handle(\n\u001b[1;32m   1706\u001b[0m     f,\n\u001b[1;32m   1707\u001b[0m     mode,\n\u001b[1;32m   1708\u001b[0m     encoding\u001b[39m=\u001b[39m\u001b[39mself\u001b[39m\u001b[39m.\u001b[39moptions\u001b[39m.\u001b[39mget(\u001b[39m\"\u001b[39m\u001b[39mencoding\u001b[39m\u001b[39m\"\u001b[39m, \u001b[39mNone\u001b[39;00m),\n\u001b[1;32m   1709\u001b[0m     compression\u001b[39m=\u001b[39m\u001b[39mself\u001b[39m\u001b[39m.\u001b[39moptions\u001b[39m.\u001b[39mget(\u001b[39m\"\u001b[39m\u001b[39mcompression\u001b[39m\u001b[39m\"\u001b[39m, \u001b[39mNone\u001b[39;00m),\n\u001b[1;32m   1710\u001b[0m     memory_map\u001b[39m=\u001b[39m\u001b[39mself\u001b[39m\u001b[39m.\u001b[39moptions\u001b[39m.\u001b[39mget(\u001b[39m\"\u001b[39m\u001b[39mmemory_map\u001b[39m\u001b[39m\"\u001b[39m, \u001b[39mFalse\u001b[39;00m),\n\u001b[1;32m   1711\u001b[0m     is_text\u001b[39m=\u001b[39mis_text,\n\u001b[1;32m   1712\u001b[0m     errors\u001b[39m=\u001b[39m\u001b[39mself\u001b[39m\u001b[39m.\u001b[39moptions\u001b[39m.\u001b[39mget(\u001b[39m\"\u001b[39m\u001b[39mencoding_errors\u001b[39m\u001b[39m\"\u001b[39m, \u001b[39m\"\u001b[39m\u001b[39mstrict\u001b[39m\u001b[39m\"\u001b[39m),\n\u001b[1;32m   1713\u001b[0m     storage_options\u001b[39m=\u001b[39m\u001b[39mself\u001b[39m\u001b[39m.\u001b[39moptions\u001b[39m.\u001b[39mget(\u001b[39m\"\u001b[39m\u001b[39mstorage_options\u001b[39m\u001b[39m\"\u001b[39m, \u001b[39mNone\u001b[39;00m),\n\u001b[1;32m   1714\u001b[0m )\n\u001b[1;32m   1715\u001b[0m \u001b[39massert\u001b[39;00m \u001b[39mself\u001b[39m\u001b[39m.\u001b[39mhandles \u001b[39mis\u001b[39;00m \u001b[39mnot\u001b[39;00m \u001b[39mNone\u001b[39;00m\n\u001b[1;32m   1716\u001b[0m f \u001b[39m=\u001b[39m \u001b[39mself\u001b[39m\u001b[39m.\u001b[39mhandles\u001b[39m.\u001b[39mhandle\n",
            "File \u001b[0;32m~/miniconda3/envs/daam/lib/python3.11/site-packages/pandas/io/common.py:863\u001b[0m, in \u001b[0;36mget_handle\u001b[0;34m(path_or_buf, mode, encoding, compression, memory_map, is_text, errors, storage_options)\u001b[0m\n\u001b[1;32m    858\u001b[0m \u001b[39melif\u001b[39;00m \u001b[39misinstance\u001b[39m(handle, \u001b[39mstr\u001b[39m):\n\u001b[1;32m    859\u001b[0m     \u001b[39m# Check whether the filename is to be opened in binary mode.\u001b[39;00m\n\u001b[1;32m    860\u001b[0m     \u001b[39m# Binary mode does not support 'encoding' and 'newline'.\u001b[39;00m\n\u001b[1;32m    861\u001b[0m     \u001b[39mif\u001b[39;00m ioargs\u001b[39m.\u001b[39mencoding \u001b[39mand\u001b[39;00m \u001b[39m\"\u001b[39m\u001b[39mb\u001b[39m\u001b[39m\"\u001b[39m \u001b[39mnot\u001b[39;00m \u001b[39min\u001b[39;00m ioargs\u001b[39m.\u001b[39mmode:\n\u001b[1;32m    862\u001b[0m         \u001b[39m# Encoding\u001b[39;00m\n\u001b[0;32m--> 863\u001b[0m         handle \u001b[39m=\u001b[39m \u001b[39mopen\u001b[39m(\n\u001b[1;32m    864\u001b[0m             handle,\n\u001b[1;32m    865\u001b[0m             ioargs\u001b[39m.\u001b[39mmode,\n\u001b[1;32m    866\u001b[0m             encoding\u001b[39m=\u001b[39mioargs\u001b[39m.\u001b[39mencoding,\n\u001b[1;32m    867\u001b[0m             errors\u001b[39m=\u001b[39merrors,\n\u001b[1;32m    868\u001b[0m             newline\u001b[39m=\u001b[39m\u001b[39m\"\u001b[39m\u001b[39m\"\u001b[39m,\n\u001b[1;32m    869\u001b[0m         )\n\u001b[1;32m    870\u001b[0m     \u001b[39melse\u001b[39;00m:\n\u001b[1;32m    871\u001b[0m         \u001b[39m# Binary mode\u001b[39;00m\n\u001b[1;32m    872\u001b[0m         handle \u001b[39m=\u001b[39m \u001b[39mopen\u001b[39m(handle, ioargs\u001b[39m.\u001b[39mmode)\n",
            "\u001b[0;31mFileNotFoundError\u001b[0m: [Errno 2] No such file or directory: 'data/processedgroceries.csv'"
          ]
        }
      ],
      "source": [
        "import pandas as pd\n",
        "drive_root = \"data/\"\n",
        "filename = \"groceries.csv\"\n",
        "data = pd.read_csv(drive_root+\"processed\"+filename)\n",
        "data"
      ]
    },
    {
      "cell_type": "markdown",
      "metadata": {
        "id": "1Mdy1symvYfv"
      },
      "source": [
        "# New Section"
      ]
    },
    {
      "cell_type": "code",
      "execution_count": 2,
      "metadata": {
        "colab": {
          "base_uri": "https://localhost:8080/"
        },
        "id": "Epr8dCqdkzCy",
        "outputId": "316dc994-d907-4a03-8dc2-c9dcb89e8abd"
      },
      "outputs": [],
      "source": [
        "import ast\n",
        "\n",
        "# Convert the string to a list of lists\n",
        "dataset = [ast.literal_eval(string) for string in data[\"itemDescription\"]]\n",
        "dataset[:10]\n",
        "all_items = [item for sublist in dataset for item in sublist]\n",
        "\n",
        "# Count the number of unique items\n",
        "num_unique = len(set(all_items))"
      ]
    },
    {
      "cell_type": "code",
      "execution_count": 4,
      "metadata": {
        "colab": {
          "base_uri": "https://localhost:8080/",
          "height": 527
        },
        "id": "gRs9jcAqjVke",
        "outputId": "d1b22910-a727-493b-d364-25c685341254"
      },
      "outputs": [
        {
          "data": {
            "image/png": "[encoded data removed]",
            "text/plain": [
              "<Figure size 640x480 with 1 Axes>"
            ]
          },
          "metadata": {},
          "output_type": "display_data"
        }
      ],
      "source": [
        "import matplotlib.pyplot as plt\n",
        "# Calculate the lengths of elements in the column\n",
        "lengths = data['itemDescription'].apply(len) / num_unique\n",
        "\n",
        "# Plotting the histogram of lengths\n",
        "plt.hist(lengths, bins='auto', color='skyblue', alpha=0.7, rwidth=0.85)\n",
        "plt.xlabel('Numebr of elements per transaction basket')\n",
        "plt.ylabel('Frequency')\n",
        "plt.title('Distribution of transaction lengths proportional to unique movie ids')\n",
        "plt.grid(axis='y', alpha=0.5)\n",
        "plt.show()"
      ]
    },
    {
      "cell_type": "code",
      "execution_count": 5,
      "metadata": {
        "colab": {
          "base_uri": "https://localhost:8080/"
        },
        "id": "1H5XlDrXOmbF",
        "outputId": "bd331fff-0423-470d-adca-f65424a3cb55"
      },
      "outputs": [
        {
          "data": {
            "text/plain": [
              "{0.01: {'frequent_itemsets':      support                        itemsets\n",
              "  0   0.157923                    [whole milk]\n",
              "  1   0.085879                        [yogurt]\n",
              "  2   0.060349                       [sausage]\n",
              "  3   0.051728                        [pastry]\n",
              "  4   0.018780                   [salty snack]\n",
              "  ..       ...                             ...\n",
              "  64  0.011161            [yogurt, whole milk]\n",
              "  65  0.011629              [soda, whole milk]\n",
              "  66  0.013968        [rolls/buns, whole milk]\n",
              "  67  0.010559  [rolls/buns, other vegetables]\n",
              "  68  0.014837  [other vegetables, whole milk]\n",
              "  \n",
              "  [69 rows x 2 columns],\n",
              "  'execution_time': 0.14722847938537598},\n",
              " 0.05: {'frequent_itemsets':      support            itemsets\n",
              "  0   0.157923        [whole milk]\n",
              "  1   0.085879            [yogurt]\n",
              "  2   0.060349           [sausage]\n",
              "  3   0.051728            [pastry]\n",
              "  4   0.097106              [soda]\n",
              "  5   0.110005        [rolls/buns]\n",
              "  6   0.122101  [other vegetables]\n",
              "  7   0.067767    [tropical fruit]\n",
              "  8   0.069572   [root vegetables]\n",
              "  9   0.060683     [bottled water]\n",
              "  10  0.053131      [citrus fruit],\n",
              "  'execution_time': 0.07017278671264648},\n",
              " 0.1: {'frequent_itemsets':     support            itemsets\n",
              "  0  0.157923        [whole milk]\n",
              "  1  0.110005        [rolls/buns]\n",
              "  2  0.122101  [other vegetables],\n",
              "  'execution_time': 0.051876068115234375},\n",
              " 0.2: {'frequent_itemsets': Empty DataFrame\n",
              "  Columns: [support, itemsets]\n",
              "  Index: [],\n",
              "  'execution_time': 0.04768800735473633}}"
            ]
          },
          "execution_count": 5,
          "metadata": {},
          "output_type": "execute_result"
        }
      ],
      "source": [
        "import pandas as pd\n",
        "import time\n",
        "from mlxtend.preprocessing import TransactionEncoder\n",
        "from mlxtend.frequent_patterns import apriori, fpmax, fpgrowth\n",
        "\n",
        "te = TransactionEncoder()\n",
        "te_ary = te.fit(dataset).transform(dataset)\n",
        "df = pd.DataFrame(te_ary, columns=te.columns_)\n",
        "\n",
        "### alternatively:\n",
        "min_supports = [0.01, 0.05, 0.1, 0.2]\n",
        "frequent_itemsets_list = {}\n",
        "for ms in min_supports:\n",
        "    start_time = time.time()\n",
        "    # apdf = apriori(df, min_support=ms, use_colnames=True)\n",
        "    apdf = fpgrowth(df, min_support=ms, use_colnames=True)\n",
        "    apdf[\"itemsets\"] = apdf[\"itemsets\"].apply(lambda x: list(x))\n",
        "    frequent_itemsets_list[ms] = {\n",
        "        'frequent_itemsets': apdf,\n",
        "        'execution_time': time.time() - start_time\n",
        "    }\n",
        "frequent_itemsets_list"
      ]
    },
    {
      "cell_type": "code",
      "execution_count": 6,
      "metadata": {
        "colab": {
          "base_uri": "https://localhost:8080/",
          "height": 575
        },
        "id": "t0ihsT7fML_x",
        "outputId": "f0057915-fa40-4e2c-ae97-00f410256bcf"
      },
      "outputs": [
        {
          "data": {
            "text/plain": [
              "{'frequent_itemsets':      support                        itemsets\n",
              " 0   0.157923                    [whole milk]\n",
              " 1   0.085879                        [yogurt]\n",
              " 2   0.060349                       [sausage]\n",
              " 3   0.051728                        [pastry]\n",
              " 4   0.018780                   [salty snack]\n",
              " ..       ...                             ...\n",
              " 64  0.011161            [yogurt, whole milk]\n",
              " 65  0.011629              [soda, whole milk]\n",
              " 66  0.013968        [rolls/buns, whole milk]\n",
              " 67  0.010559  [rolls/buns, other vegetables]\n",
              " 68  0.014837  [other vegetables, whole milk]\n",
              " \n",
              " [69 rows x 2 columns],\n",
              " 'execution_time': 0.14722847938537598}"
            ]
          },
          "execution_count": 6,
          "metadata": {},
          "output_type": "execute_result"
        }
      ],
      "source": [
        "frequent_itemsets_list[0.01]"
      ]
    },
    {
      "cell_type": "code",
      "execution_count": 9,
      "metadata": {
        "colab": {
          "base_uri": "https://localhost:8080/"
        },
        "id": "IB4TSsUgIsDe",
        "outputId": "bfd908ec-1d7d-4a9f-ced0-6dd4a5e2ecb7"
      },
      "outputs": [],
      "source": [
        "from mlxtend.frequent_patterns import association_rules\n",
        "ar_list = {}\n",
        "for key, frequent_itemsets in frequent_itemsets_list.items():\n",
        "    if frequent_itemsets[\"frequent_itemsets\"].empty:\n",
        "        ar_list[key] = pd.DataFrame()\n",
        "        continue\n",
        "    ar_list[key] = association_rules(frequent_itemsets[\"frequent_itemsets\"], metric=\"confidence\", min_threshold=0.7)"
      ]
    },
    {
      "cell_type": "code",
      "execution_count": 10,
      "metadata": {},
      "outputs": [
        {
          "data": {
            "text/plain": [
              "{0.01: Empty DataFrame\n",
              " Columns: [antecedents, consequents, antecedent support, consequent support, support, confidence, lift, leverage, conviction, zhangs_metric]\n",
              " Index: [],\n",
              " 0.05: Empty DataFrame\n",
              " Columns: [antecedents, consequents, antecedent support, consequent support, support, confidence, lift, leverage, conviction, zhangs_metric]\n",
              " Index: [],\n",
              " 0.1: Empty DataFrame\n",
              " Columns: [antecedents, consequents, antecedent support, consequent support, support, confidence, lift, leverage, conviction, zhangs_metric]\n",
              " Index: [],\n",
              " 0.2: Empty DataFrame\n",
              " Columns: []\n",
              " Index: []}"
            ]
          },
          "execution_count": 10,
          "metadata": {},
          "output_type": "execute_result"
        }
      ],
      "source": [
        "ar_list"
      ]
    }
  ],
  "metadata": {
    "colab": {
      "provenance": []
    },
    "kernelspec": {
      "display_name": "Python 3.11.5 ('daam')",
      "language": "python",
      "name": "python3"
    },
    "language_info": {
      "codemirror_mode": {
        "name": "ipython",
        "version": 3
      },
      "file_extension": ".py",
      "mimetype": "text/x-python",
      "name": "python",
      "nbconvert_exporter": "python",
      "pygments_lexer": "ipython3",
      "version": "3.11.5"
    },
    "vscode": {
      "interpreter": {
        "hash": "a8dbf8d7ef1c0b38b67812619b704383877847c96f59454b63d829827efea6ea"
      }
    }
  },
  "nbformat": 4,
  "nbformat_minor": 0
}
